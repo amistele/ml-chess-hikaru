{
 "cells": [
  {
   "cell_type": "code",
   "outputs": [],
   "source": [],
   "metadata": {
    "collapsed": false
   },
   "id": "cd53370b12ad098e"
  },
  {
   "cell_type": "code",
   "execution_count": 357,
   "id": "bf517a5473a8d62",
   "metadata": {
    "collapsed": false,
    "ExecuteTime": {
     "end_time": "2024-03-24T18:04:35.820537Z",
     "start_time": "2024-03-24T18:04:35.804747Z"
    }
   },
   "outputs": [],
   "source": [
    "import torch\n",
    "from torch import nn\n",
    "from torch.utils.data import DataLoader, Dataset\n",
    "import importlib\n",
    "import SmoothBrainChess\n"
   ]
  },
  {
   "cell_type": "code",
   "outputs": [
    {
     "name": "stdout",
     "output_type": "stream",
     "text": [
      "Using cuda device!\n",
      "SmoothBrainChess(\n",
      "  (flatten): Flatten(start_dim=1, end_dim=-1)\n",
      "  (linear_relu_stack): Sequential(\n",
      "    (0): Linear(in_features=768, out_features=2000, bias=True)\n",
      "    (1): ReLU()\n",
      "    (2): Dropout(p=0.2, inplace=False)\n",
      "    (3): Linear(in_features=2000, out_features=2000, bias=True)\n",
      "    (4): ReLU()\n",
      "    (5): Dropout(p=0.2, inplace=False)\n",
      "    (6): Linear(in_features=2000, out_features=1882, bias=True)\n",
      "  )\n",
      ")\n"
     ]
    }
   ],
   "source": [
    "importlib.reload( SmoothBrainChess )\n",
    "#INITIALIZE MODEL\n",
    "device = (\"cuda\"\n",
    "          if torch.cuda.is_available()\n",
    "          else \"cpu\"\n",
    "          )\n",
    "print(f'Using {device} device!')\n",
    "\n",
    "SBC_01 = SmoothBrainChess.SmoothBrainChess(2000 , True).to(device)\n",
    "print(SBC_01)"
   ],
   "metadata": {
    "collapsed": false,
    "ExecuteTime": {
     "end_time": "2024-03-24T18:41:59.458603Z",
     "start_time": "2024-03-24T18:41:59.366139Z"
    }
   },
   "id": "8d35fb50b0231b3e",
   "execution_count": 367
  },
  {
   "cell_type": "markdown",
   "source": [
    "### FIRST TRAINING CASE IS LOADED! NOW, TEST THE MODEL!"
   ],
   "metadata": {
    "collapsed": false
   },
   "id": "addeeda02c2fa579"
  },
  {
   "cell_type": "code",
   "outputs": [
    {
     "name": "stdout",
     "output_type": "stream",
     "text": [
      "['training_layers_as_matrices\\\\1.2M_INPUT_LAYERS_div1.csv', 'training_layers_as_matrices\\\\1.2M_INPUT_LAYERS_div2.csv', 'training_layers_as_matrices\\\\1.2M_INPUT_LAYERS_div3.csv', 'training_layers_as_matrices\\\\1.2M_INPUT_LAYERS_div4.csv', 'training_layers_as_matrices\\\\1.2M_INPUT_LAYERS_div5.csv', 'training_layers_as_matrices\\\\1.2M_INPUT_LAYERS_div6.csv', 'training_layers_as_matrices\\\\1.2M_INPUT_LAYERS_div7.csv', 'training_layers_as_matrices\\\\1.2M_INPUT_LAYERS_div8.csv', 'training_layers_as_matrices\\\\1.2M_INPUT_LAYERS_div9.csv', 'training_layers_as_matrices\\\\1.2M_INPUT_LAYERS_div10.csv', 'training_layers_as_matrices\\\\1.2M_INPUT_LAYERS_div11.csv', 'training_layers_as_matrices\\\\1.2M_INPUT_LAYERS_div12.csv', 'training_layers_as_matrices\\\\1.2M_INPUT_LAYERS_div13.csv', 'training_layers_as_matrices\\\\1.2M_INPUT_LAYERS_div14.csv', 'training_layers_as_matrices\\\\1.2M_INPUT_LAYERS_div15.csv', 'training_layers_as_matrices\\\\1.2M_INPUT_LAYERS_div16.csv', 'training_layers_as_matrices\\\\1.2M_INPUT_LAYERS_div17.csv', 'training_layers_as_matrices\\\\1.2M_INPUT_LAYERS_div18.csv', 'training_layers_as_matrices\\\\1.2M_INPUT_LAYERS_div19.csv', 'training_layers_as_matrices\\\\1.2M_INPUT_LAYERS_div20.csv', 'training_layers_as_matrices\\\\1.2M_INPUT_LAYERS_div21.csv', 'training_layers_as_matrices\\\\1.2M_INPUT_LAYERS_div22.csv', 'training_layers_as_matrices\\\\1.2M_INPUT_LAYERS_div23.csv', 'training_layers_as_matrices\\\\1.2M_INPUT_LAYERS_div24.csv', 'training_layers_as_matrices\\\\1.2M_INPUT_LAYERS_div25.csv', 'training_layers_as_matrices\\\\1.2M_INPUT_LAYERS_div26.csv', 'training_layers_as_matrices\\\\1.2M_INPUT_LAYERS_div27.csv', 'training_layers_as_matrices\\\\1.2M_INPUT_LAYERS_div28.csv', 'training_layers_as_matrices\\\\1.2M_INPUT_LAYERS_div29.csv', 'training_layers_as_matrices\\\\1.2M_INPUT_LAYERS_div30.csv', 'training_layers_as_matrices\\\\1.2M_INPUT_LAYERS_div31.csv', 'training_layers_as_matrices\\\\1.2M_INPUT_LAYERS_div32.csv', 'training_layers_as_matrices\\\\1.2M_INPUT_LAYERS_div33.csv', 'training_layers_as_matrices\\\\1.2M_INPUT_LAYERS_div34.csv', 'training_layers_as_matrices\\\\1.2M_INPUT_LAYERS_div35.csv', 'training_layers_as_matrices\\\\1.2M_INPUT_LAYERS_div36.csv', 'training_layers_as_matrices\\\\1.2M_INPUT_LAYERS_div37.csv', 'training_layers_as_matrices\\\\1.2M_INPUT_LAYERS_div38.csv', 'training_layers_as_matrices\\\\1.2M_INPUT_LAYERS_div39.csv', 'training_layers_as_matrices\\\\1.2M_INPUT_LAYERS_div40.csv']\n",
      "INPUT LENS:  [30988, 30988, 30988, 30988, 30988, 30988, 30988, 30988, 30988, 30988, 30988, 30988, 30988, 30988, 30988, 30988, 30988, 30987, 30987, 30987, 30987, 30987, 30987, 30987, 30987, 30987, 30987, 30987, 30987, 30987, 30987, 30987, 30987, 30987, 30987, 30987, 30987, 30987, 30987, 30987]\n",
      "OUTPUT LENS:  [30988, 30988, 30988, 30988, 30988, 30988, 30988, 30988, 30988, 30988, 30988, 30988, 30988, 30988, 30988, 30988, 30988, 30987, 30987, 30987, 30987, 30987, 30987, 30987, 30987, 30987, 30987, 30987, 30987, 30987, 30987, 30987, 30987, 30987, 30987, 30987, 30987, 30987, 30987, 30987]\n",
      "FINAL INPUT LEN:  1239497\n",
      "FINAL OUTPUT LEN:  1239497\n",
      "['training_layers_as_matrices\\\\1.2M_INPUT_LAYERS_div1.csv', 'training_layers_as_matrices\\\\1.2M_INPUT_LAYERS_div2.csv', 'training_layers_as_matrices\\\\1.2M_INPUT_LAYERS_div3.csv', 'training_layers_as_matrices\\\\1.2M_INPUT_LAYERS_div4.csv', 'training_layers_as_matrices\\\\1.2M_INPUT_LAYERS_div5.csv', 'training_layers_as_matrices\\\\1.2M_INPUT_LAYERS_div6.csv', 'training_layers_as_matrices\\\\1.2M_INPUT_LAYERS_div7.csv', 'training_layers_as_matrices\\\\1.2M_INPUT_LAYERS_div8.csv', 'training_layers_as_matrices\\\\1.2M_INPUT_LAYERS_div9.csv', 'training_layers_as_matrices\\\\1.2M_INPUT_LAYERS_div10.csv', 'training_layers_as_matrices\\\\1.2M_INPUT_LAYERS_div11.csv', 'training_layers_as_matrices\\\\1.2M_INPUT_LAYERS_div12.csv', 'training_layers_as_matrices\\\\1.2M_INPUT_LAYERS_div13.csv', 'training_layers_as_matrices\\\\1.2M_INPUT_LAYERS_div14.csv', 'training_layers_as_matrices\\\\1.2M_INPUT_LAYERS_div15.csv', 'training_layers_as_matrices\\\\1.2M_INPUT_LAYERS_div16.csv', 'training_layers_as_matrices\\\\1.2M_INPUT_LAYERS_div17.csv', 'training_layers_as_matrices\\\\1.2M_INPUT_LAYERS_div18.csv', 'training_layers_as_matrices\\\\1.2M_INPUT_LAYERS_div19.csv', 'training_layers_as_matrices\\\\1.2M_INPUT_LAYERS_div20.csv', 'training_layers_as_matrices\\\\1.2M_INPUT_LAYERS_div21.csv', 'training_layers_as_matrices\\\\1.2M_INPUT_LAYERS_div22.csv', 'training_layers_as_matrices\\\\1.2M_INPUT_LAYERS_div23.csv', 'training_layers_as_matrices\\\\1.2M_INPUT_LAYERS_div24.csv', 'training_layers_as_matrices\\\\1.2M_INPUT_LAYERS_div25.csv', 'training_layers_as_matrices\\\\1.2M_INPUT_LAYERS_div26.csv', 'training_layers_as_matrices\\\\1.2M_INPUT_LAYERS_div27.csv', 'training_layers_as_matrices\\\\1.2M_INPUT_LAYERS_div28.csv', 'training_layers_as_matrices\\\\1.2M_INPUT_LAYERS_div29.csv', 'training_layers_as_matrices\\\\1.2M_INPUT_LAYERS_div30.csv', 'training_layers_as_matrices\\\\1.2M_INPUT_LAYERS_div31.csv', 'training_layers_as_matrices\\\\1.2M_INPUT_LAYERS_div32.csv', 'training_layers_as_matrices\\\\1.2M_INPUT_LAYERS_div33.csv', 'training_layers_as_matrices\\\\1.2M_INPUT_LAYERS_div34.csv', 'training_layers_as_matrices\\\\1.2M_INPUT_LAYERS_div35.csv', 'training_layers_as_matrices\\\\1.2M_INPUT_LAYERS_div36.csv', 'training_layers_as_matrices\\\\1.2M_INPUT_LAYERS_div37.csv', 'training_layers_as_matrices\\\\1.2M_INPUT_LAYERS_div38.csv', 'training_layers_as_matrices\\\\1.2M_INPUT_LAYERS_div39.csv', 'training_layers_as_matrices\\\\1.2M_INPUT_LAYERS_div40.csv']\n",
      "INPUT LENS:  [30988, 30988, 30988, 30988, 30988, 30988, 30988, 30988, 30988, 30988, 30988, 30988, 30988, 30988, 30988, 30988, 30988, 30987, 30987, 30987, 30987, 30987, 30987, 30987, 30987, 30987, 30987, 30987, 30987, 30987, 30987, 30987, 30987, 30987, 30987, 30987, 30987, 30987, 30987, 30987]\n",
      "OUTPUT LENS:  [30988, 30988, 30988, 30988, 30988, 30988, 30988, 30988, 30988, 30988, 30988, 30988, 30988, 30988, 30988, 30988, 30988, 30987, 30987, 30987, 30987, 30987, 30987, 30987, 30987, 30987, 30987, 30987, 30987, 30987, 30987, 30987, 30987, 30987, 30987, 30987, 30987, 30987, 30987, 30987]\n",
      "FINAL INPUT LEN:  1239497\n",
      "FINAL OUTPUT LEN:  1239497\n"
     ]
    }
   ],
   "source": [
    "\n",
    "importlib.reload( SmoothBrainChess )\n",
    "\"\"\"\n",
    "numsolns = '10k'\n",
    "train_data = SmoothBrainChess.TestChessDataSet_SingleFile(device, True,numsolns+'_INPUT_LAYERS.csv',numsolns+'_OUTPUT_NODE_INDICES.csv')\n",
    "test_data = SmoothBrainChess.TestChessDataSet_SingleFile(device,False,numsolns+'_INPUT_LAYERS.csv',numsolns+'_OUTPUT_NODE_INDICES.csv')\n",
    "\"\"\"\n",
    "ndiv = 40\n",
    "pth = 'training_layers_as_matrices\\\\'\n",
    "train_data = SmoothBrainChess.TestChessDataSet_MultiFile(device, True,pth+'1.2M_INPUT_LAYERS_div',pth+'1.2M_OUTPUT_NODE_INDICES_div',ndiv)\n",
    "test_data = SmoothBrainChess.TestChessDataSet_MultiFile(device, False,pth+'1.2M_INPUT_LAYERS_div',pth+'1.2M_OUTPUT_NODE_INDICES_div',ndiv)\n",
    "\n",
    "batch_size = 256\n",
    "training_data = DataLoader( train_data , batch_size=batch_size)\n",
    "testing_data = DataLoader( test_data , batch_size=batch_size)"
   ],
   "metadata": {
    "collapsed": false,
    "ExecuteTime": {
     "end_time": "2024-03-23T03:38:55.120570Z",
     "start_time": "2024-03-23T03:34:37.109250Z"
    }
   },
   "id": "cc2ddbf188ef362b",
   "execution_count": 336
  },
  {
   "cell_type": "markdown",
   "source": [
    "### HYPERPARAMTERS"
   ],
   "metadata": {
    "collapsed": false
   },
   "id": "f21af50ebf11fafd"
  },
  {
   "cell_type": "code",
   "outputs": [],
   "source": [
    "#learning_rate = 1e-3\n",
    "loss_function = nn.CrossEntropyLoss()"
   ],
   "metadata": {
    "collapsed": false,
    "ExecuteTime": {
     "end_time": "2024-03-24T18:42:06.617465Z",
     "start_time": "2024-03-24T18:42:06.613737Z"
    }
   },
   "id": "e00d6533ecd3380b",
   "execution_count": 368
  },
  {
   "cell_type": "code",
   "outputs": [],
   "source": [
    "#optimizer = torch.optim.SGD(SBC_01.parameters(), lr=learning_rate)\n",
    "optimizer = torch.optim.NAdam(SBC_01.parameters(),lr=0.0002)"
   ],
   "metadata": {
    "collapsed": false,
    "ExecuteTime": {
     "end_time": "2024-03-24T18:42:07.905948Z",
     "start_time": "2024-03-24T18:42:07.900578Z"
    }
   },
   "id": "55e08f1094ae1b77",
   "execution_count": 369
  },
  {
   "cell_type": "code",
   "outputs": [
    {
     "name": "stdout",
     "output_type": "stream",
     "text": [
      "Epoch 1\n",
      "-------------------------------\n",
      "loss: 5.393959  [  256/619748]\n",
      "loss: 4.742132  [25856/619748]\n",
      "loss: 5.150986  [51456/619748]\n",
      "loss: 5.388843  [77056/619748]\n",
      "loss: 5.130701  [102656/619748]\n",
      "loss: 4.618773  [128256/619748]\n",
      "loss: 5.034513  [153856/619748]\n",
      "loss: 4.943420  [179456/619748]\n",
      "loss: 5.169917  [205056/619748]\n",
      "loss: 4.730286  [230656/619748]\n",
      "loss: 4.553858  [256256/619748]\n",
      "loss: 3.912263  [281856/619748]\n",
      "loss: 4.734338  [307456/619748]\n",
      "loss: 4.135904  [333056/619748]\n",
      "loss: 4.492739  [358656/619748]\n",
      "loss: 3.946723  [384256/619748]\n",
      "loss: 4.457171  [409856/619748]\n",
      "loss: 3.855281  [435456/619748]\n",
      "loss: 4.548433  [461056/619748]\n",
      "loss: 3.658420  [486656/619748]\n",
      "loss: 4.011772  [512256/619748]\n",
      "loss: 4.103106  [537856/619748]\n",
      "loss: 3.650128  [563456/619748]\n",
      "loss: 3.617460  [589056/619748]\n",
      "loss: 4.128760  [614656/619748]\n",
      "Test Error: \n",
      " Accuracy: 19.3%, Avg loss: 3.758415 \n",
      "\n",
      "Epoch 2\n",
      "-------------------------------\n",
      "loss: 3.569134  [  256/619748]\n",
      "loss: 3.192676  [25856/619748]\n",
      "loss: 3.334250  [51456/619748]\n",
      "loss: 3.786256  [77056/619748]\n",
      "loss: 3.613052  [102656/619748]\n",
      "loss: 3.266353  [128256/619748]\n",
      "loss: 3.617100  [153856/619748]\n",
      "loss: 3.519883  [179456/619748]\n",
      "loss: 3.501131  [205056/619748]\n",
      "loss: 3.266450  [230656/619748]\n",
      "loss: 3.419796  [256256/619748]\n",
      "loss: 2.818496  [281856/619748]\n",
      "loss: 3.384850  [307456/619748]\n",
      "loss: 3.038610  [333056/619748]\n",
      "loss: 3.426891  [358656/619748]\n",
      "loss: 3.148308  [384256/619748]\n",
      "loss: 3.512665  [409856/619748]\n",
      "loss: 3.141390  [435456/619748]\n",
      "loss: 3.545821  [461056/619748]\n",
      "loss: 2.960491  [486656/619748]\n",
      "loss: 3.139631  [512256/619748]\n",
      "loss: 3.325258  [537856/619748]\n",
      "loss: 3.043506  [563456/619748]\n",
      "loss: 3.057713  [589056/619748]\n",
      "loss: 3.317423  [614656/619748]\n",
      "Test Error: \n",
      " Accuracy: 22.6%, Avg loss: 3.235740 \n",
      "\n",
      "Epoch 3\n",
      "-------------------------------\n",
      "loss: 3.067230  [  256/619748]\n",
      "loss: 2.709565  [25856/619748]\n",
      "loss: 2.916490  [51456/619748]\n",
      "loss: 3.243240  [77056/619748]\n",
      "loss: 3.161135  [102656/619748]\n",
      "loss: 2.806258  [128256/619748]\n",
      "loss: 3.093489  [153856/619748]\n",
      "loss: 3.020373  [179456/619748]\n",
      "loss: 2.980875  [205056/619748]\n",
      "loss: 2.899776  [230656/619748]\n",
      "loss: 3.037305  [256256/619748]\n",
      "loss: 2.544990  [281856/619748]\n",
      "loss: 2.963984  [307456/619748]\n",
      "loss: 2.744092  [333056/619748]\n",
      "loss: 3.068393  [358656/619748]\n",
      "loss: 2.814776  [384256/619748]\n",
      "loss: 3.120653  [409856/619748]\n",
      "loss: 2.849019  [435456/619748]\n",
      "loss: 3.224114  [461056/619748]\n",
      "loss: 2.700889  [486656/619748]\n",
      "loss: 2.866536  [512256/619748]\n",
      "loss: 2.911525  [537856/619748]\n",
      "loss: 2.760400  [563456/619748]\n",
      "loss: 2.829638  [589056/619748]\n",
      "loss: 2.878315  [614656/619748]\n",
      "Test Error: \n",
      " Accuracy: 24.2%, Avg loss: 3.048478 \n",
      "\n",
      "Epoch 4\n",
      "-------------------------------\n",
      "loss: 2.800759  [  256/619748]\n",
      "loss: 2.607580  [25856/619748]\n",
      "loss: 2.739224  [51456/619748]\n",
      "loss: 2.983450  [77056/619748]\n",
      "loss: 2.914435  [102656/619748]\n",
      "loss: 2.635575  [128256/619748]\n",
      "loss: 2.853608  [153856/619748]\n",
      "loss: 2.844354  [179456/619748]\n",
      "loss: 2.697811  [205056/619748]\n",
      "loss: 2.671334  [230656/619748]\n",
      "loss: 2.883206  [256256/619748]\n",
      "loss: 2.403060  [281856/619748]\n",
      "loss: 2.829736  [307456/619748]\n",
      "loss: 2.544799  [333056/619748]\n",
      "loss: 2.818684  [358656/619748]\n",
      "loss: 2.510106  [384256/619748]\n",
      "loss: 2.914742  [409856/619748]\n",
      "loss: 2.776929  [435456/619748]\n",
      "loss: 3.000721  [461056/619748]\n",
      "loss: 2.575098  [486656/619748]\n",
      "loss: 2.712675  [512256/619748]\n",
      "loss: 2.707868  [537856/619748]\n",
      "loss: 2.596563  [563456/619748]\n",
      "loss: 2.682138  [589056/619748]\n",
      "loss: 2.790478  [614656/619748]\n",
      "Test Error: \n",
      " Accuracy: 25.4%, Avg loss: 2.946267 \n",
      "\n",
      "Epoch 5\n",
      "-------------------------------\n",
      "loss: 2.621219  [  256/619748]\n",
      "loss: 2.358807  [25856/619748]\n",
      "loss: 2.532179  [51456/619748]\n",
      "loss: 2.810200  [77056/619748]\n",
      "loss: 2.712837  [102656/619748]\n",
      "loss: 2.417074  [128256/619748]\n",
      "loss: 2.677023  [153856/619748]\n",
      "loss: 2.744673  [179456/619748]\n",
      "loss: 2.478317  [205056/619748]\n",
      "loss: 2.441622  [230656/619748]\n",
      "loss: 2.549921  [256256/619748]\n",
      "loss: 2.247329  [281856/619748]\n",
      "loss: 2.633278  [307456/619748]\n",
      "loss: 2.502384  [333056/619748]\n",
      "loss: 2.640114  [358656/619748]\n",
      "loss: 2.381519  [384256/619748]\n",
      "loss: 2.645977  [409856/619748]\n",
      "loss: 2.581622  [435456/619748]\n",
      "loss: 2.817028  [461056/619748]\n",
      "loss: 2.463553  [486656/619748]\n",
      "loss: 2.584069  [512256/619748]\n",
      "loss: 2.619932  [537856/619748]\n",
      "loss: 2.469673  [563456/619748]\n",
      "loss: 2.504988  [589056/619748]\n",
      "loss: 2.529746  [614656/619748]\n",
      "Test Error: \n",
      " Accuracy: 26.0%, Avg loss: 2.885498 \n",
      "\n",
      "Epoch 6\n",
      "-------------------------------\n",
      "loss: 2.501287  [  256/619748]\n",
      "loss: 2.317864  [25856/619748]\n",
      "loss: 2.452152  [51456/619748]\n",
      "loss: 2.548925  [77056/619748]\n",
      "loss: 2.496542  [102656/619748]\n",
      "loss: 2.367870  [128256/619748]\n",
      "loss: 2.523008  [153856/619748]\n",
      "loss: 2.594437  [179456/619748]\n",
      "loss: 2.339745  [205056/619748]\n",
      "loss: 2.344135  [230656/619748]\n",
      "loss: 2.454515  [256256/619748]\n",
      "loss: 2.122313  [281856/619748]\n",
      "loss: 2.451465  [307456/619748]\n",
      "loss: 2.317487  [333056/619748]\n",
      "loss: 2.455288  [358656/619748]\n",
      "loss: 2.239968  [384256/619748]\n",
      "loss: 2.578244  [409856/619748]\n",
      "loss: 2.437801  [435456/619748]\n",
      "loss: 2.636673  [461056/619748]\n",
      "loss: 2.377960  [486656/619748]\n",
      "loss: 2.461069  [512256/619748]\n",
      "loss: 2.468707  [537856/619748]\n",
      "loss: 2.410938  [563456/619748]\n",
      "loss: 2.454749  [589056/619748]\n",
      "loss: 2.367860  [614656/619748]\n",
      "Test Error: \n",
      " Accuracy: 26.7%, Avg loss: 2.841119 \n",
      "\n",
      "Epoch 7\n",
      "-------------------------------\n",
      "loss: 2.422781  [  256/619748]\n",
      "loss: 2.149408  [25856/619748]\n",
      "loss: 2.324218  [51456/619748]\n",
      "loss: 2.372936  [77056/619748]\n",
      "loss: 2.379251  [102656/619748]\n",
      "loss: 2.217876  [128256/619748]\n",
      "loss: 2.423460  [153856/619748]\n",
      "loss: 2.568465  [179456/619748]\n",
      "loss: 2.241224  [205056/619748]\n",
      "loss: 2.317199  [230656/619748]\n",
      "loss: 2.331764  [256256/619748]\n",
      "loss: 2.103541  [281856/619748]\n",
      "loss: 2.409450  [307456/619748]\n",
      "loss: 2.221547  [333056/619748]\n",
      "loss: 2.400129  [358656/619748]\n",
      "loss: 2.141458  [384256/619748]\n",
      "loss: 2.453126  [409856/619748]\n",
      "loss: 2.330756  [435456/619748]\n",
      "loss: 2.520601  [461056/619748]\n",
      "loss: 2.299585  [486656/619748]\n",
      "loss: 2.230436  [512256/619748]\n",
      "loss: 2.318025  [537856/619748]\n",
      "loss: 2.251533  [563456/619748]\n",
      "loss: 2.334315  [589056/619748]\n",
      "loss: 2.237767  [614656/619748]\n",
      "Test Error: \n",
      " Accuracy: 27.2%, Avg loss: 2.818407 \n",
      "\n",
      "Epoch 8\n",
      "-------------------------------\n",
      "loss: 2.289315  [  256/619748]\n",
      "loss: 2.048676  [25856/619748]\n",
      "loss: 2.074242  [51456/619748]\n",
      "loss: 2.356339  [77056/619748]\n",
      "loss: 2.290043  [102656/619748]\n",
      "loss: 2.110386  [128256/619748]\n",
      "loss: 2.254438  [153856/619748]\n",
      "loss: 2.407395  [179456/619748]\n",
      "loss: 2.021185  [205056/619748]\n",
      "loss: 2.193339  [230656/619748]\n",
      "loss: 2.263842  [256256/619748]\n",
      "loss: 2.020444  [281856/619748]\n",
      "loss: 2.253754  [307456/619748]\n",
      "loss: 2.115472  [333056/619748]\n",
      "loss: 2.240127  [358656/619748]\n",
      "loss: 2.006488  [384256/619748]\n",
      "loss: 2.314054  [409856/619748]\n",
      "loss: 2.356318  [435456/619748]\n",
      "loss: 2.475189  [461056/619748]\n",
      "loss: 2.169929  [486656/619748]\n",
      "loss: 2.189728  [512256/619748]\n",
      "loss: 2.319031  [537856/619748]\n",
      "loss: 2.204339  [563456/619748]\n",
      "loss: 2.254026  [589056/619748]\n",
      "loss: 2.103704  [614656/619748]\n",
      "Test Error: \n",
      " Accuracy: 27.7%, Avg loss: 2.801387 \n",
      "\n",
      "Done!\n"
     ]
    }
   ],
   "source": [
    "importlib.reload( SmoothBrainChess )\n",
    "epochs = 8\n",
    "for t in range(epochs):\n",
    "    print(f\"Epoch {t+1}\\n-------------------------------\")\n",
    "    SmoothBrainChess.train_loop(training_data, SBC_01, loss_function, optimizer)\n",
    "    SmoothBrainChess.test_loop(testing_data, SBC_01, loss_function)\n",
    "print(\"Done!\")\n",
    "\n",
    "torch.save(SBC_01.state_dict(),'model_weights_2k_3lin_do.pth')"
   ],
   "metadata": {
    "collapsed": false,
    "ExecuteTime": {
     "end_time": "2024-03-24T19:21:29.246145Z",
     "start_time": "2024-03-24T18:42:46.357995Z"
    }
   },
   "id": "95143eec00a1e1a6",
   "execution_count": 371
  },
  {
   "cell_type": "code",
   "outputs": [
    {
     "name": "stdout",
     "output_type": "stream",
     "text": [
      "a4a5\n"
     ]
    }
   ],
   "source": [
    "player_move = input('Enter player move')\n",
    "print(player_move)"
   ],
   "metadata": {
    "collapsed": false,
    "ExecuteTime": {
     "end_time": "2024-03-25T00:21:33.195934Z",
     "start_time": "2024-03-25T00:21:30.881439Z"
    }
   },
   "id": "7f3b2bbc90c5c152",
   "execution_count": 373
  },
  {
   "cell_type": "code",
   "outputs": [],
   "source": [],
   "metadata": {
    "collapsed": false
   },
   "id": "5222dc1d33dc26ca"
  }
 ],
 "metadata": {
  "kernelspec": {
   "display_name": "Python 3",
   "language": "python",
   "name": "python3"
  },
  "language_info": {
   "codemirror_mode": {
    "name": "ipython",
    "version": 2
   },
   "file_extension": ".py",
   "mimetype": "text/x-python",
   "name": "python",
   "nbconvert_exporter": "python",
   "pygments_lexer": "ipython2",
   "version": "2.7.6"
  }
 },
 "nbformat": 4,
 "nbformat_minor": 5
}
