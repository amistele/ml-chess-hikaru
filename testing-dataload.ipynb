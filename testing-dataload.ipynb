{
 "cells": [
  {
   "cell_type": "code",
   "execution_count": 8,
   "id": "initial_id",
   "metadata": {
    "collapsed": true,
    "ExecuteTime": {
     "end_time": "2024-03-23T00:07:11.786850Z",
     "start_time": "2024-03-23T00:07:11.782505Z"
    }
   },
   "outputs": [],
   "source": [
    "import torch\n",
    "from torch import nn\n",
    "from torch.utils.data import DataLoader, Dataset\n",
    "import importlib\n",
    "import SmoothBrainChess\n",
    "import pandas as pd\n",
    "import numpy as np"
   ]
  },
  {
   "cell_type": "code",
   "outputs": [],
   "source": [
    "importlib.reload( SmoothBrainChess )\n",
    "input_file = '10k_INPUT_LAYERS.csv'\n",
    "output_file = '10k_OUTPUT_NODE_INDICES.csv'\n",
    "\n",
    "df_input = pd.read_csv(input_file)\n",
    "df_output = pd.read_csv(output_file)"
   ],
   "metadata": {
    "collapsed": false,
    "ExecuteTime": {
     "end_time": "2024-03-23T00:06:12.732571Z",
     "start_time": "2024-03-23T00:06:12.016130Z"
    }
   },
   "id": "449c99299976b7af",
   "execution_count": 5
  },
  {
   "cell_type": "code",
   "outputs": [
    {
     "name": "stdout",
     "output_type": "stream",
     "text": [
      "True\n",
      "cuda:0\n",
      "torch.float32\n"
     ]
    }
   ],
   "source": [
    "# CONVERT EMBEDDINGS FROM CSV\n",
    "print(torch.cuda.is_available())\n",
    "in_mat = df_input.to_numpy()\n",
    "colors = in_mat[:,1]\n",
    "embeddings = in_mat[:,2:].astype(np.float32)\n",
    "torch_embeds = torch.from_numpy(embeddings).to('cuda')\n",
    "print(torch_embeds.device)\n",
    "print(torch_embeds.dtype)"
   ],
   "metadata": {
    "collapsed": false,
    "ExecuteTime": {
     "end_time": "2024-03-23T00:16:53.111270Z",
     "start_time": "2024-03-23T00:16:52.736361Z"
    }
   },
   "id": "b61b3768a2f9d5bc",
   "execution_count": 26
  },
  {
   "cell_type": "code",
   "outputs": [
    {
     "data": {
      "text/plain": "array([ 268, 1460,  317, ...,  482,  179,  502])"
     },
     "execution_count": 27,
     "metadata": {},
     "output_type": "execute_result"
    }
   ],
   "source": [
    "outputs = df_output['OUT_INDEX'].to_numpy(dtype=int)\n",
    "outputs"
   ],
   "metadata": {
    "collapsed": false,
    "ExecuteTime": {
     "end_time": "2024-03-23T00:18:24.520471Z",
     "start_time": "2024-03-23T00:18:24.511736Z"
    }
   },
   "id": "2184aafab5ae39f",
   "execution_count": 27
  },
  {
   "cell_type": "code",
   "outputs": [
    {
     "data": {
      "text/plain": "      INDEX  COLOR  IN_0  IN_1  IN_2  IN_3  IN_4  IN_5  IN_6  IN_7  ...  \\\n0         0  WHITE     0     0     0     0     1     0     0     0  ...   \n1         1  WHITE     0     0     0     0     1     0     0     0  ...   \n2         2  WHITE     0     0     0     0     1     0     0     0  ...   \n3         3  WHITE     0     0     0     0     1     0     0     0  ...   \n4         4  WHITE     0     0     0     0     1     0     0     0  ...   \n...     ...    ...   ...   ...   ...   ...   ...   ...   ...   ...  ...   \n4995   4995  WHITE     0     0     0     0     0     0     1     0  ...   \n4996   4996  WHITE     0     0     0     0     0     0     1     0  ...   \n4997   4997  WHITE     0     0     0     0     0     0     1     0  ...   \n4998   4998  WHITE     0     0     0     0     0     0     1     0  ...   \n4999   4999  WHITE     0     0     0     0     0     0     1     0  ...   \n\n      IN_758  IN_759  IN_760  IN_761  IN_762  IN_763  IN_764  IN_765  IN_766  \\\n0          0       0       0       0       0       0       1       0       0   \n1          0       0       0       0       0       0       1       0       0   \n2          0       0       0       0       0       0       1       0       0   \n3          0       0       0       0       0       0       1       0       0   \n4          0       0       0       0       0       0       1       0       0   \n...      ...     ...     ...     ...     ...     ...     ...     ...     ...   \n4995       0       0       0       0       0       0       0       0       1   \n4996       0       0       0       0       0       0       0       0       1   \n4997       0       0       0       0       0       0       0       0       1   \n4998       0       0       0       0       0       0       0       0       1   \n4999       0       0       0       0       0       0       0       0       1   \n\n      IN_767  \n0          0  \n1          0  \n2          0  \n3          0  \n4          0  \n...      ...  \n4995       0  \n4996       0  \n4997       0  \n4998       0  \n4999       0  \n\n[5000 rows x 770 columns]",
      "text/html": "<div>\n<style scoped>\n    .dataframe tbody tr th:only-of-type {\n        vertical-align: middle;\n    }\n\n    .dataframe tbody tr th {\n        vertical-align: top;\n    }\n\n    .dataframe thead th {\n        text-align: right;\n    }\n</style>\n<table border=\"1\" class=\"dataframe\">\n  <thead>\n    <tr style=\"text-align: right;\">\n      <th></th>\n      <th>INDEX</th>\n      <th>COLOR</th>\n      <th>IN_0</th>\n      <th>IN_1</th>\n      <th>IN_2</th>\n      <th>IN_3</th>\n      <th>IN_4</th>\n      <th>IN_5</th>\n      <th>IN_6</th>\n      <th>IN_7</th>\n      <th>...</th>\n      <th>IN_758</th>\n      <th>IN_759</th>\n      <th>IN_760</th>\n      <th>IN_761</th>\n      <th>IN_762</th>\n      <th>IN_763</th>\n      <th>IN_764</th>\n      <th>IN_765</th>\n      <th>IN_766</th>\n      <th>IN_767</th>\n    </tr>\n  </thead>\n  <tbody>\n    <tr>\n      <th>0</th>\n      <td>0</td>\n      <td>WHITE</td>\n      <td>0</td>\n      <td>0</td>\n      <td>0</td>\n      <td>0</td>\n      <td>1</td>\n      <td>0</td>\n      <td>0</td>\n      <td>0</td>\n      <td>...</td>\n      <td>0</td>\n      <td>0</td>\n      <td>0</td>\n      <td>0</td>\n      <td>0</td>\n      <td>0</td>\n      <td>1</td>\n      <td>0</td>\n      <td>0</td>\n      <td>0</td>\n    </tr>\n    <tr>\n      <th>1</th>\n      <td>1</td>\n      <td>WHITE</td>\n      <td>0</td>\n      <td>0</td>\n      <td>0</td>\n      <td>0</td>\n      <td>1</td>\n      <td>0</td>\n      <td>0</td>\n      <td>0</td>\n      <td>...</td>\n      <td>0</td>\n      <td>0</td>\n      <td>0</td>\n      <td>0</td>\n      <td>0</td>\n      <td>0</td>\n      <td>1</td>\n      <td>0</td>\n      <td>0</td>\n      <td>0</td>\n    </tr>\n    <tr>\n      <th>2</th>\n      <td>2</td>\n      <td>WHITE</td>\n      <td>0</td>\n      <td>0</td>\n      <td>0</td>\n      <td>0</td>\n      <td>1</td>\n      <td>0</td>\n      <td>0</td>\n      <td>0</td>\n      <td>...</td>\n      <td>0</td>\n      <td>0</td>\n      <td>0</td>\n      <td>0</td>\n      <td>0</td>\n      <td>0</td>\n      <td>1</td>\n      <td>0</td>\n      <td>0</td>\n      <td>0</td>\n    </tr>\n    <tr>\n      <th>3</th>\n      <td>3</td>\n      <td>WHITE</td>\n      <td>0</td>\n      <td>0</td>\n      <td>0</td>\n      <td>0</td>\n      <td>1</td>\n      <td>0</td>\n      <td>0</td>\n      <td>0</td>\n      <td>...</td>\n      <td>0</td>\n      <td>0</td>\n      <td>0</td>\n      <td>0</td>\n      <td>0</td>\n      <td>0</td>\n      <td>1</td>\n      <td>0</td>\n      <td>0</td>\n      <td>0</td>\n    </tr>\n    <tr>\n      <th>4</th>\n      <td>4</td>\n      <td>WHITE</td>\n      <td>0</td>\n      <td>0</td>\n      <td>0</td>\n      <td>0</td>\n      <td>1</td>\n      <td>0</td>\n      <td>0</td>\n      <td>0</td>\n      <td>...</td>\n      <td>0</td>\n      <td>0</td>\n      <td>0</td>\n      <td>0</td>\n      <td>0</td>\n      <td>0</td>\n      <td>1</td>\n      <td>0</td>\n      <td>0</td>\n      <td>0</td>\n    </tr>\n    <tr>\n      <th>...</th>\n      <td>...</td>\n      <td>...</td>\n      <td>...</td>\n      <td>...</td>\n      <td>...</td>\n      <td>...</td>\n      <td>...</td>\n      <td>...</td>\n      <td>...</td>\n      <td>...</td>\n      <td>...</td>\n      <td>...</td>\n      <td>...</td>\n      <td>...</td>\n      <td>...</td>\n      <td>...</td>\n      <td>...</td>\n      <td>...</td>\n      <td>...</td>\n      <td>...</td>\n      <td>...</td>\n    </tr>\n    <tr>\n      <th>4995</th>\n      <td>4995</td>\n      <td>WHITE</td>\n      <td>0</td>\n      <td>0</td>\n      <td>0</td>\n      <td>0</td>\n      <td>0</td>\n      <td>0</td>\n      <td>1</td>\n      <td>0</td>\n      <td>...</td>\n      <td>0</td>\n      <td>0</td>\n      <td>0</td>\n      <td>0</td>\n      <td>0</td>\n      <td>0</td>\n      <td>0</td>\n      <td>0</td>\n      <td>1</td>\n      <td>0</td>\n    </tr>\n    <tr>\n      <th>4996</th>\n      <td>4996</td>\n      <td>WHITE</td>\n      <td>0</td>\n      <td>0</td>\n      <td>0</td>\n      <td>0</td>\n      <td>0</td>\n      <td>0</td>\n      <td>1</td>\n      <td>0</td>\n      <td>...</td>\n      <td>0</td>\n      <td>0</td>\n      <td>0</td>\n      <td>0</td>\n      <td>0</td>\n      <td>0</td>\n      <td>0</td>\n      <td>0</td>\n      <td>1</td>\n      <td>0</td>\n    </tr>\n    <tr>\n      <th>4997</th>\n      <td>4997</td>\n      <td>WHITE</td>\n      <td>0</td>\n      <td>0</td>\n      <td>0</td>\n      <td>0</td>\n      <td>0</td>\n      <td>0</td>\n      <td>1</td>\n      <td>0</td>\n      <td>...</td>\n      <td>0</td>\n      <td>0</td>\n      <td>0</td>\n      <td>0</td>\n      <td>0</td>\n      <td>0</td>\n      <td>0</td>\n      <td>0</td>\n      <td>1</td>\n      <td>0</td>\n    </tr>\n    <tr>\n      <th>4998</th>\n      <td>4998</td>\n      <td>WHITE</td>\n      <td>0</td>\n      <td>0</td>\n      <td>0</td>\n      <td>0</td>\n      <td>0</td>\n      <td>0</td>\n      <td>1</td>\n      <td>0</td>\n      <td>...</td>\n      <td>0</td>\n      <td>0</td>\n      <td>0</td>\n      <td>0</td>\n      <td>0</td>\n      <td>0</td>\n      <td>0</td>\n      <td>0</td>\n      <td>1</td>\n      <td>0</td>\n    </tr>\n    <tr>\n      <th>4999</th>\n      <td>4999</td>\n      <td>WHITE</td>\n      <td>0</td>\n      <td>0</td>\n      <td>0</td>\n      <td>0</td>\n      <td>0</td>\n      <td>0</td>\n      <td>1</td>\n      <td>0</td>\n      <td>...</td>\n      <td>0</td>\n      <td>0</td>\n      <td>0</td>\n      <td>0</td>\n      <td>0</td>\n      <td>0</td>\n      <td>0</td>\n      <td>0</td>\n      <td>1</td>\n      <td>0</td>\n    </tr>\n  </tbody>\n</table>\n<p>5000 rows × 770 columns</p>\n</div>"
     },
     "execution_count": 29,
     "metadata": {},
     "output_type": "execute_result"
    }
   ],
   "source": [
    "df_input[0:int(np.floor(len(df_input)/2))]"
   ],
   "metadata": {
    "collapsed": false,
    "ExecuteTime": {
     "end_time": "2024-03-23T00:19:11.786139Z",
     "start_time": "2024-03-23T00:19:11.768545Z"
    }
   },
   "id": "a6be025ccfa32f39",
   "execution_count": 29
  },
  {
   "cell_type": "code",
   "outputs": [],
   "source": [
    "train=1\n",
    "device='cuda'\n",
    "\n",
    "df_input = pd.read_csv(input_file)\n",
    "if train:\n",
    "    df_input = df_input[0:int(np.floor(len(df_input)/2))]\n",
    "else:\n",
    "    df_input = df_input[int(np.ceil(len(df_input)/2)):]\n",
    "\n",
    "# LOAD OUTPUTS\n",
    "df_output = pd.read_csv(output_file)\n",
    "if train:\n",
    "    df_output = df_output[0:int(np.floor(len(df_output)/2))]\n",
    "else:\n",
    "    df_output = df_output[int(np.ceil(len(df_output)/2)):]\n",
    "\n",
    "# EACH ELEMENT IN self.embeddings IS A NUMPY ARRAY OF THE INPUT LAYER EMBEDDING\n",
    "embeddings = torch.from_numpy(df_input.to_numpy()[:,2:].astype(np.float32)).to(device)\n",
    "# EACH ELEMENT IN self.labels IS THE INDEX OF THE CORRECT OUTPUT NODE\n",
    "labels = torch.from_numpy(df_output['OUT_INDEX'].to_numpy(dtype=int)).to(device)"
   ],
   "metadata": {
    "collapsed": false,
    "ExecuteTime": {
     "end_time": "2024-03-23T00:38:12.774238Z",
     "start_time": "2024-03-23T00:38:11.842669Z"
    }
   },
   "id": "e8693029b9029c19",
   "execution_count": 30
  },
  {
   "cell_type": "code",
   "outputs": [
    {
     "data": {
      "text/plain": "tensor([[0., 0., 0.,  ..., 0., 0., 0.],\n        [0., 0., 0.,  ..., 0., 0., 0.],\n        [0., 0., 0.,  ..., 0., 0., 0.],\n        ...,\n        [0., 0., 0.,  ..., 0., 1., 0.],\n        [0., 0., 0.,  ..., 0., 1., 0.],\n        [0., 0., 0.,  ..., 0., 1., 0.]], device='cuda:0')"
     },
     "execution_count": 31,
     "metadata": {},
     "output_type": "execute_result"
    }
   ],
   "source": [
    "embeddings"
   ],
   "metadata": {
    "collapsed": false,
    "ExecuteTime": {
     "end_time": "2024-03-23T00:38:18.071396Z",
     "start_time": "2024-03-23T00:38:18.060066Z"
    }
   },
   "id": "9c4a74d6e18fedc",
   "execution_count": 31
  },
  {
   "cell_type": "code",
   "outputs": [
    {
     "data": {
      "text/plain": "tensor([ 268, 1460,  317,  ..., 1600,  428,   21], device='cuda:0',\n       dtype=torch.int32)"
     },
     "execution_count": 32,
     "metadata": {},
     "output_type": "execute_result"
    }
   ],
   "source": [
    "labels"
   ],
   "metadata": {
    "collapsed": false,
    "ExecuteTime": {
     "end_time": "2024-03-23T00:38:25.082750Z",
     "start_time": "2024-03-23T00:38:25.074253Z"
    }
   },
   "id": "90c69136b9e7908f",
   "execution_count": 32
  },
  {
   "cell_type": "code",
   "outputs": [
    {
     "data": {
      "text/plain": "tensor([0., 0., 0., 0., 1., 0., 0., 0., 0., 0., 0., 0., 0., 0., 0., 0., 0., 0.,\n        0., 0., 0., 0., 0., 0., 0., 0., 0., 0., 0., 0., 0., 0., 0., 0., 0., 0.,\n        0., 0., 0., 0., 0., 0., 0., 0., 0., 0., 0., 0., 0., 0., 0., 0., 0., 0.,\n        0., 0., 0., 0., 0., 0., 0., 0., 0., 0., 0., 0., 0., 1., 0., 0., 0., 0.,\n        0., 0., 0., 0., 0., 0., 0., 0., 0., 0., 0., 0., 0., 0., 0., 0., 0., 0.,\n        0., 0., 0., 0., 0., 0., 0., 0., 0., 0., 0., 0., 0., 0., 0., 0., 0., 0.,\n        0., 0., 0., 0., 0., 0., 0., 0., 0., 0., 0., 0., 0., 0., 0., 0., 0., 0.,\n        0., 0., 1., 0., 0., 0., 0., 0., 0., 1., 0., 0., 0., 0., 0., 0., 0., 0.,\n        0., 0., 0., 0., 0., 0., 0., 0., 0., 0., 0., 0., 0., 0., 0., 0., 0., 0.,\n        0., 0., 0., 0., 0., 0., 0., 0., 0., 0., 0., 0., 0., 0., 0., 0., 0., 0.,\n        0., 0., 0., 0., 0., 0., 0., 0., 0., 0., 0., 0., 0., 0., 1., 0., 0., 1.,\n        0., 0., 0., 0., 0., 0., 0., 0., 0., 0., 0., 0., 0., 0., 0., 0., 0., 0.,\n        0., 0., 0., 0., 0., 0., 0., 0., 0., 0., 0., 0., 0., 0., 0., 0., 0., 0.,\n        0., 0., 0., 0., 0., 0., 0., 0., 0., 0., 0., 0., 0., 0., 0., 0., 0., 0.,\n        0., 0., 0., 0., 0., 1., 0., 0., 0., 0., 1., 0., 0., 0., 0., 0., 0., 0.,\n        0., 0., 0., 0., 0., 0., 0., 0., 0., 0., 0., 0., 0., 0., 0., 0., 0., 0.,\n        0., 0., 0., 0., 0., 0., 0., 0., 0., 0., 0., 0., 0., 0., 0., 0., 0., 0.,\n        0., 0., 0., 0., 0., 0., 0., 0., 0., 0., 0., 0., 0., 0., 0., 0., 0., 0.,\n        0., 0., 0., 0., 1., 1., 1., 1., 1., 1., 1., 1., 0., 0., 0., 0., 0., 0.,\n        0., 0., 0., 0., 0., 0., 0., 0., 0., 0., 0., 0., 0., 0., 0., 0., 0., 0.,\n        0., 0., 0., 0., 0., 0., 0., 0., 0., 0., 0., 0., 0., 0., 0., 0., 0., 0.,\n        0., 0., 0., 0., 0., 0., 0., 0., 0., 0., 0., 0., 0., 0., 0., 0., 0., 0.,\n        0., 0., 0., 0., 0., 0., 0., 0., 0., 0., 0., 0., 0., 0., 0., 0., 0., 0.,\n        0., 0., 0., 0., 0., 0., 0., 0., 0., 0., 0., 0., 0., 0., 0., 0., 0., 0.,\n        1., 1., 1., 1., 1., 1., 1., 1., 0., 0., 0., 0., 0., 0., 0., 0., 0., 0.,\n        0., 0., 0., 0., 0., 0., 0., 0., 0., 0., 0., 0., 0., 0., 0., 0., 0., 0.,\n        0., 0., 0., 0., 0., 0., 0., 0., 0., 0., 0., 0., 0., 0., 0., 0., 0., 0.,\n        0., 0., 0., 0., 0., 0., 0., 0., 0., 0., 0., 0., 0., 0., 0., 0., 0., 0.,\n        0., 1., 0., 0., 0., 0., 1., 0., 0., 0., 0., 0., 0., 0., 0., 0., 0., 0.,\n        0., 0., 0., 0., 0., 0., 0., 0., 0., 0., 0., 0., 0., 0., 0., 0., 0., 0.,\n        0., 0., 0., 0., 0., 0., 0., 0., 0., 0., 0., 0., 0., 0., 0., 0., 0., 0.,\n        0., 0., 0., 0., 0., 0., 0., 0., 0., 0., 0., 0., 1., 0., 0., 1., 0., 0.,\n        0., 0., 0., 0., 0., 0., 0., 0., 0., 0., 0., 0., 0., 0., 0., 0., 0., 0.,\n        0., 0., 0., 0., 0., 0., 0., 0., 0., 0., 0., 0., 0., 0., 0., 0., 0., 0.,\n        0., 0., 0., 0., 0., 0., 0., 0., 0., 0., 0., 0., 0., 0., 0., 0., 0., 0.,\n        0., 0., 1., 0., 0., 0., 0., 0., 0., 1., 0., 0., 0., 0., 0., 0., 0., 0.,\n        0., 0., 0., 0., 0., 0., 0., 0., 0., 0., 0., 0., 0., 0., 0., 0., 0., 0.,\n        0., 0., 0., 0., 0., 0., 0., 0., 0., 0., 0., 0., 0., 0., 0., 0., 0., 0.,\n        0., 0., 0., 0., 0., 0., 0., 0., 0., 0., 0., 0., 0., 0., 0., 1., 0., 0.,\n        0., 0., 0., 0., 0., 0., 0., 0., 0., 0., 0., 0., 0., 0., 0., 0., 0., 0.,\n        0., 0., 0., 0., 0., 0., 0., 0., 0., 0., 0., 0., 0., 0., 0., 0., 0., 0.,\n        0., 0., 0., 0., 0., 0., 0., 0., 0., 0., 0., 0., 0., 0., 0., 0., 0., 0.,\n        0., 0., 0., 0., 0., 0., 0., 0., 1., 0., 0., 0.], device='cuda:0')"
     },
     "execution_count": 33,
     "metadata": {},
     "output_type": "execute_result"
    }
   ],
   "source": [
    "embeddings[0]"
   ],
   "metadata": {
    "collapsed": false,
    "ExecuteTime": {
     "end_time": "2024-03-23T00:38:40.725832Z",
     "start_time": "2024-03-23T00:38:40.517168Z"
    }
   },
   "id": "31e0aa8aa0ccb8c9",
   "execution_count": 33
  },
  {
   "cell_type": "code",
   "outputs": [
    {
     "name": "stdout",
     "output_type": "stream",
     "text": [
      "tensor([0., 0., 0., 0., 0., 0., 0., 0., 0., 0., 1., 0.])\n"
     ]
    }
   ],
   "source": [
    "labels = 10\n",
    "vec = torch.zeros(12,dtype=torch.float).scatter(0,torch.tensor(labels),value=1)\n",
    "print(vec)"
   ],
   "metadata": {
    "collapsed": false,
    "ExecuteTime": {
     "end_time": "2024-03-23T01:04:01.151460Z",
     "start_time": "2024-03-23T01:04:00.839334Z"
    }
   },
   "id": "1653e855da4ec6d8",
   "execution_count": 35
  },
  {
   "cell_type": "code",
   "outputs": [
    {
     "name": "stdout",
     "output_type": "stream",
     "text": [
      "['training_layers_as_matrices\\\\1.2M_INPUT_LAYERS_div1.csv', 'training_layers_as_matrices\\\\1.2M_INPUT_LAYERS_div2.csv']\n",
      "INPUT LENS:  [30988, 30988]\n",
      "OUTPUT LENS:  [30988, 30988]\n",
      "FINAL INPUT LEN:  61976\n",
      "FINAL OUTPUT LEN:  61976\n"
     ]
    }
   ],
   "source": [
    "from functools import reduce\n",
    "importlib.reload( SmoothBrainChess )\n",
    "pth = 'training_layers_as_matrices\\\\'\n",
    "\n",
    "\"\"\"train_data = SmoothBrainChess.TestChessDataSet_MultiFile(device, True,pth+'1.2M_INPUT_LAYERS_div',pth+'1.2M_OUTPUT_NODE_INDICES_div',2)\n",
    "test_data = SmoothBrainChess.TestChessDataSet_MultiFile(device, False,pth+'1.2M_INPUT_LAYERS_div',pth+'1.2M_OUTPUT_NODE_INDICES_div',2)\"\"\"\n",
    "\n",
    "device = 'cuda'\n",
    "train = True\n",
    "infile_pattern = pth+'1.2M_INPUT_LAYERS_div'\n",
    "keyfile_pattern = pth+'1.2M_OUTPUT_NODE_INDICES_div'\n",
    "ndiv = 2\n",
    "\n",
    "\n",
    "print([infile_pattern+str(x+1)+'.csv' for x in range(ndiv)])\n",
    "dfs_input = [pd.read_csv(infile_pattern+str(x+1)+'.csv') for x in range(ndiv)]\n",
    "dfs_output = [pd.read_csv(keyfile_pattern+str(x+1)+'.csv') for x in range(ndiv)]\n",
    "\n",
    "print('INPUT LENS: ', [x.shape[0] for x in dfs_input])\n",
    "print('OUTPUT LENS: ', [x.shape[0] for x in dfs_output])\n",
    "\n",
    "df_input = pd.concat(dfs_input)\n",
    "df_output = pd.concat(dfs_output)\n",
    "\n",
    "print('FINAL INPUT LEN: ',df_input.shape[0])\n",
    "print('FINAL OUTPUT LEN: ',df_output.shape[0])\n",
    "\n",
    "# HANDLE INPUTS\n",
    "if train:\n",
    "    df_input = df_input[0:int(np.floor(len(df_input)/2))]\n",
    "else:\n",
    "    df_input = df_input[int(np.ceil(len(df_input)/2)):]\n",
    "\n",
    "# HANDLE OUPUTS OUTPUTS\n",
    "if train:\n",
    "    df_output = df_output[0:int(np.floor(len(df_output)/2))]\n",
    "else:\n",
    "    df_output = df_output[int(np.ceil(len(df_output)/2)):]\n",
    "\n",
    "# EACH ELEMENT IN self.embeddings IS A NUMPY ARRAY OF THE INPUT LAYER EMBEDDING\n",
    "embeddings = torch.from_numpy(df_input.to_numpy()[:,2:].astype(np.float32))\n",
    "\n",
    "# EACH ELEMENT IN self.labels IS THE INDEX OF THE CORRECT OUTPUT NODE\n",
    "label_indices = df_output['OUT_INDEX'].to_numpy()\n",
    "\n"
   ],
   "metadata": {
    "collapsed": false,
    "ExecuteTime": {
     "end_time": "2024-03-23T02:26:22.225254Z",
     "start_time": "2024-03-23T02:26:18.116298Z"
    }
   },
   "id": "3e92534331ce401e",
   "execution_count": 50
  },
  {
   "cell_type": "code",
   "outputs": [
    {
     "name": "stdout",
     "output_type": "stream",
     "text": [
      "(30988, 770)\n",
      "(30988, 770)\n",
      "(61976, 770)\n"
     ]
    }
   ],
   "source": [
    "print(dfs_input[0].shape)\n",
    "print(dfs_input[1].shape)\n",
    "dfs0 = pd.concat(dfs_input)\n",
    "print(dfs0.shape)"
   ],
   "metadata": {
    "collapsed": false,
    "ExecuteTime": {
     "end_time": "2024-03-23T02:26:01.158127Z",
     "start_time": "2024-03-23T02:26:00.964499Z"
    }
   },
   "id": "e9ea02b133ea15b2",
   "execution_count": 49
  },
  {
   "cell_type": "code",
   "outputs": [],
   "source": [],
   "metadata": {
    "collapsed": false
   },
   "id": "977ee3c1bbf68cf2"
  }
 ],
 "metadata": {
  "kernelspec": {
   "display_name": "Python 3",
   "language": "python",
   "name": "python3"
  },
  "language_info": {
   "codemirror_mode": {
    "name": "ipython",
    "version": 2
   },
   "file_extension": ".py",
   "mimetype": "text/x-python",
   "name": "python",
   "nbconvert_exporter": "python",
   "pygments_lexer": "ipython2",
   "version": "2.7.6"
  }
 },
 "nbformat": 4,
 "nbformat_minor": 5
}
